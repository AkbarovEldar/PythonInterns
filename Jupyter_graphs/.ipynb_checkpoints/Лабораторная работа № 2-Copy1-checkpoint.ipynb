{
 "cells": [
  {
   "cell_type": "code",
   "execution_count": null,
   "metadata": {
    "colab": {},
    "colab_type": "code",
    "id": "Qri5nDu-eSXQ"
   },
   "outputs": [],
   "source": [
    "import numpy as np # подключение библиотеки NumRy"
   ]
  },
  {
   "cell_type": "markdown",
   "metadata": {
    "colab_type": "text",
    "id": "w5l3lSPkeSXN"
   },
   "source": [
    "# Библиотека NumPy\n",
    "\n",
    "Пакет `numpy` предоставляет $n$-мерные однородные массивы (все элементы одного типа); в них нельзя вставить или удалить элемент в произвольном месте. В `numpy` реализовано много операций над массивами в целом. Если задачу можно решить, произведя некоторую последовательность операций над массивами, то это будет столь же эффективно, как в `C` или `matlab` - львиная доля времени тратится в библиотечных функциях, написанных на `C`.\n",
    "\n",
    "## 1. Одномерные массивы\n",
    "\n",
    "#### 1.1 Типы массивов, атрибуты"
   ]
  },
  {
   "cell_type": "markdown",
   "metadata": {
    "colab_type": "text",
    "id": "4OYggcLMeSXY"
   },
   "source": [
    "Можно преобразовать список в массив."
   ]
  },
  {
   "cell_type": "code",
   "execution_count": null,
   "metadata": {
    "colab": {},
    "colab_type": "code",
    "id": "60DzfgyMeSXa",
    "outputId": "f70b7a44-8908-4578-d1ca-03aa4cc4933f"
   },
   "outputs": [],
   "source": [
    "a = np.array([0, 2, 1])  # создание массива numpy"
   ]
  },
  {
   "cell_type": "markdown",
   "metadata": {
    "colab_type": "text",
    "id": "Zus_bnvFeSXf"
   },
   "source": [
    "`print` печатает массивы в удобной форме."
   ]
  },
  {
   "cell_type": "code",
   "execution_count": null,
   "metadata": {
    "colab": {},
    "colab_type": "code",
    "id": "3CY4rY0GeSXg",
    "outputId": "5b407c06-0a20-443e-f6c8-1e75d47ba115"
   },
   "outputs": [],
   "source": [
    "print(a)"
   ]
  },
  {
   "cell_type": "markdown",
   "metadata": {
    "colab_type": "text",
    "id": "GWrTlCJieSXk"
   },
   "source": [
    "Класс `ndarray` имеет много методов."
   ]
  },
  {
   "cell_type": "code",
   "execution_count": null,
   "metadata": {
    "colab": {},
    "colab_type": "code",
    "id": "KhZ0kil4eSXl",
    "outputId": "0da421ae-5676-459e-e47e-bacb3455dbf7",
    "scrolled": true
   },
   "outputs": [],
   "source": [
    "set(dir(a)) - set(dir(object)) # получить список атрибутов массива, за исключением относящихся к классу object\n",
    "# set() - создание множества\n",
    "# dir() - список атрибутов"
   ]
  },
  {
   "cell_type": "markdown",
   "metadata": {
    "colab_type": "text",
    "id": "j2Yro8nMeSXo"
   },
   "source": [
    "Наш массив одномерный."
   ]
  },
  {
   "cell_type": "code",
   "execution_count": null,
   "metadata": {
    "colab": {},
    "colab_type": "code",
    "id": "OMpgblpYeSXp",
    "outputId": "dde15de5-5973-4d6c-d407-98584a7f9b61"
   },
   "outputs": [],
   "source": [
    "a.ndim  # размерность массива"
   ]
  },
  {
   "cell_type": "markdown",
   "metadata": {
    "colab_type": "text",
    "id": "LB3skyaOeSXs"
   },
   "source": [
    "В $n$-мерном случае возвращается кортеж размеров по каждой координате."
   ]
  },
  {
   "cell_type": "code",
   "execution_count": null,
   "metadata": {
    "colab": {},
    "colab_type": "code",
    "id": "ivBL1F1PeSXs",
    "outputId": "bf9f70d9-a991-4762-f343-337c34b1b09a"
   },
   "outputs": [],
   "source": [
    "a.shape # для массива [3:2] кортеж - (3, 2)"
   ]
  },
  {
   "cell_type": "markdown",
   "metadata": {
    "colab_type": "text",
    "id": "RalMfmjfeSXv"
   },
   "source": [
    "`size` - это полное число элементов в массиве; `len` - размер по первой координате (в 1-мерном случае это то же самое)."
   ]
  },
  {
   "cell_type": "code",
   "execution_count": null,
   "metadata": {
    "colab": {},
    "colab_type": "code",
    "id": "twpTTZ9ieSXw",
    "outputId": "110917e3-5973-41c2-c75a-5828283100c5"
   },
   "outputs": [],
   "source": [
    "len(a) # размер, стандартная функция python"
   ]
  },
  {
   "cell_type": "code",
   "execution_count": null,
   "metadata": {},
   "outputs": [],
   "source": [
    "a.size  # размер, функция numpy"
   ]
  },
  {
   "cell_type": "markdown",
   "metadata": {
    "colab_type": "text",
    "id": "eCtLf6OyeSXx"
   },
   "source": [
    "`numpy` предоставляет несколько типов для целых (`int16`, `int32`, `int64`) и чисел с плавающей точкой (`float32`, `float64`)."
   ]
  },
  {
   "cell_type": "code",
   "execution_count": null,
   "metadata": {
    "colab": {},
    "colab_type": "code",
    "id": "IHuuDB2peSXy",
    "outputId": "8e51544d-19ee-43df-fb22-5c641f3b7685"
   },
   "outputs": [],
   "source": [
    "a.dtype  # тип элементов массива\n",
    "a.dtype.name  # имена полей массива\n",
    "a.itemsize  #количество байт, занимаемое элементом"
   ]
  },
  {
   "cell_type": "markdown",
   "metadata": {
    "colab_type": "text",
    "id": "xmBioWwXeSX9"
   },
   "source": [
    "Массив чисел с плавающей точкой."
   ]
  },
  {
   "cell_type": "code",
   "execution_count": null,
   "metadata": {
    "colab": {},
    "colab_type": "code",
    "id": "iZ9WpKkVeSX9",
    "outputId": "9158daf3-806d-4626-ba14-fbd126c9a7e5",
    "scrolled": true
   },
   "outputs": [],
   "source": [
    "b = np.array([0., 2, 1])\n",
    "b.dtype  # тип - float64"
   ]
  },
  {
   "cell_type": "markdown",
   "metadata": {
    "colab_type": "text",
    "id": "EG3m0QNkeSX_"
   },
   "source": [
    "Точно такой же массив."
   ]
  },
  {
   "cell_type": "code",
   "execution_count": null,
   "metadata": {
    "colab": {},
    "colab_type": "code",
    "id": "zB1Gle6peSYA",
    "outputId": "48c8eb85-a06f-44cd-b827-28b404f11181"
   },
   "outputs": [],
   "source": [
    "c = np.array([0, 2, 1], dtype=np.float64)  # объявление массива с указанием типа вручную\n",
    "print(c)"
   ]
  },
  {
   "cell_type": "markdown",
   "metadata": {
    "colab_type": "text",
    "id": "T_gqbazheSYC"
   },
   "source": [
    "Преобразование данных"
   ]
  },
  {
   "cell_type": "code",
   "execution_count": null,
   "metadata": {
    "colab": {},
    "colab_type": "code",
    "id": "ok8MtEvaeSYC",
    "outputId": "cbdbad55-26a6-4498-9630-1f212ea6e493"
   },
   "outputs": [],
   "source": [
    "print(c.dtype)\n",
    "print(c.astype(int))  # приведение объекта к типу int\n",
    "print(c.astype(str))  # приведение объекта к типу string"
   ]
  },
  {
   "cell_type": "markdown",
   "metadata": {
    "colab_type": "text",
    "id": "G1DRYeu5eSX0"
   },
   "source": [
    "#### 1.2 Индексация\n",
    "\n",
    "Индексировать массив можно обычным образом."
   ]
  },
  {
   "cell_type": "code",
   "execution_count": null,
   "metadata": {
    "colab": {},
    "colab_type": "code",
    "id": "Y9tGXwDIeSX1",
    "outputId": "661ad456-a7d1-41fb-8e77-cba496bb678f"
   },
   "outputs": [],
   "source": [
    "a[1]  # указание на 2-й элемент массива"
   ]
  },
  {
   "cell_type": "markdown",
   "metadata": {
    "colab_type": "text",
    "id": "rmKD1RweeSX3"
   },
   "source": [
    "Массивы - изменяемые объекты."
   ]
  },
  {
   "cell_type": "code",
   "execution_count": null,
   "metadata": {
    "colab": {},
    "colab_type": "code",
    "id": "QlkGiSjxeSX3",
    "outputId": "cec2f85a-516c-415f-f475-24a2e1588ad6"
   },
   "outputs": [],
   "source": [
    "a[1] = 3\n",
    "print(a)"
   ]
  },
  {
   "cell_type": "markdown",
   "metadata": {
    "colab_type": "text",
    "id": "Yd31-o_UeSX6"
   },
   "source": [
    "Массивы, разумеется, можно использовать в `for` циклах. Но при этом теряется главное преимущество `numpy` - быстродействие. Всегда, когда это возможно, лучше использовать операции над массивами как едиными целыми."
   ]
  },
  {
   "cell_type": "code",
   "execution_count": null,
   "metadata": {
    "colab": {},
    "colab_type": "code",
    "id": "c4K_PK_OeSX7",
    "outputId": "20a9bbfb-0ef2-4679-f548-beb64ec8c1eb"
   },
   "outputs": [],
   "source": [
    "for i in a:\n",
    "    print(i)"
   ]
  },
  {
   "cell_type": "markdown",
   "metadata": {},
   "source": [
    "# Задание 1: создайте numpy-массив, состоящий из первых пяти простых чисел, выведите его тип и размер:"
   ]
  },
  {
   "cell_type": "code",
   "execution_count": null,
   "metadata": {},
   "outputs": [],
   "source": [
    "import numpy as np\n",
    "\n",
    "a = np.array([1, 2, 3, 5, 7])  # создание массива numpy\n",
    "\n",
    "print(type(a))  # тип объекта\n",
    "print(len(a))  # размер, стандартная функция python\n",
    "print(a.size)  # размер, функция numpy"
   ]
  },
  {
   "cell_type": "markdown",
   "metadata": {
    "colab_type": "text",
    "id": "ViI6VqnXeSYE"
   },
   "source": [
    "#### 1.3 Создание массивов\n",
    "\n",
    "Массивы, заполненные нулями или единицами."
   ]
  },
  {
   "cell_type": "code",
   "execution_count": null,
   "metadata": {
    "colab": {},
    "colab_type": "code",
    "id": "V8yK0FLteSYF",
    "outputId": "5ae8656b-3c85-4263-af5d-334207685d39"
   },
   "outputs": [],
   "source": [
    "a = np.zeros(3) # создание массива из 3-х нулей, тип по умолчанию - float64\n",
    "b = np.ones(3, dtype=np.int64) # создание массива из 3-х нулей, тип - int64\n",
    "print(a)\n",
    "print(b)"
   ]
  },
  {
   "cell_type": "markdown",
   "metadata": {
    "colab_type": "text",
    "id": "YW31gGnbeSYI"
   },
   "source": [
    "Если нужно создать массив, заполненный нулями, длины и типа другого массива, то можно использовать конструкцию"
   ]
  },
  {
   "cell_type": "code",
   "execution_count": null,
   "metadata": {
    "colab": {},
    "colab_type": "code",
    "id": "0IJVs0EmeSYJ",
    "outputId": "1845a995-f932-4248-a291-aa49518e94e2"
   },
   "outputs": [],
   "source": [
    "np.zeros_like(b)  # создание массива с такими же длиной и типом, как и у b, но заполненного нулями"
   ]
  },
  {
   "cell_type": "markdown",
   "metadata": {
    "colab_type": "text",
    "id": "-nnOn0gNeSYL"
   },
   "source": [
    "Функция `arange` подобна `range`. Аргументы могут быть с плавающей точкой. Следует избегать ситуаций, когда *(конец-начало)/шаг* - целое число, потому что в этом случае включение последнего элемента зависит от ошибок округления. Лучше, чтобы конец диапазона был где-то посредине шага."
   ]
  },
  {
   "cell_type": "code",
   "execution_count": null,
   "metadata": {
    "colab": {},
    "colab_type": "code",
    "id": "gqTdkX18eSYL",
    "outputId": "1d99c710-2a92-4078-8e3b-9d72386c8f3e"
   },
   "outputs": [],
   "source": [
    "a = np.arange(0, 9, 2)  # создание массива целых чисел от 0 до 9 с шагом 2\n",
    "print(a)"
   ]
  },
  {
   "cell_type": "code",
   "execution_count": null,
   "metadata": {
    "colab": {},
    "colab_type": "code",
    "id": "7pY-5MmweSYN",
    "outputId": "6894fdea-02aa-4577-b275-6c3806f53187"
   },
   "outputs": [],
   "source": [
    "b = np.arange(0., 9, 2)  # создание массива чисел с плавающей точкой \n",
    "от 0 до 9 с шагом 2\n",
    "print(b)"
   ]
  },
  {
   "cell_type": "markdown",
   "metadata": {
    "colab_type": "text",
    "id": "vgPAKPaqeSYP"
   },
   "source": [
    "Последовательности чисел с постоянным шагом можно также создавать функцией `linspace`. Начало и конец диапазона включаются; последний аргумент - число точек."
   ]
  },
  {
   "cell_type": "code",
   "execution_count": null,
   "metadata": {
    "colab": {},
    "colab_type": "code",
    "id": "l1ruNluSeSYP",
    "outputId": "f24fe8a8-832b-4898-b8ea-8a88a177cdf4"
   },
   "outputs": [],
   "source": [
    "a = np.linspace(0, 8, 5)\n",
    "print(a)"
   ]
  },
  {
   "cell_type": "markdown",
   "metadata": {},
   "source": [
    "# Задание 2: создайте и выведите последовательность чисел от 10 до 20 с постоянным шагом, длина последовательности - 21."
   ]
  },
  {
   "cell_type": "code",
   "execution_count": null,
   "metadata": {},
   "outputs": [],
   "source": [
    "import numpy as np\n",
    "\n",
    "a = np.linspace(10, 20, 21)  # создание массива numpy \n",
    "# в виде последовательности чисел\n",
    "\n",
    "print(type(a))  # вывод"
   ]
  },
  {
   "cell_type": "markdown",
   "metadata": {
    "colab_type": "text",
    "id": "LLfyQPuqeSYR"
   },
   "source": [
    "Последовательность чисел с постоянным шагом по логарифмической шкале от $10^0$ до $10^1$."
   ]
  },
  {
   "cell_type": "code",
   "execution_count": null,
   "metadata": {
    "colab": {},
    "colab_type": "code",
    "id": "Njm5f_n1eSYR",
    "outputId": "54af9772-4725-4344-8489-ebab83039d93"
   },
   "outputs": [],
   "source": [
    "b = np.logspace(0, 1, 5)  # создание массива из пяти элементов от 10^0 до 10^1\n",
    "print(b)"
   ]
  },
  {
   "cell_type": "markdown",
   "metadata": {
    "colab_type": "text",
    "id": "3TniLu7deSYT"
   },
   "source": [
    "## 2. Операции над одномерными массивами\n",
    "\n",
    "#### 2.1 Математические операции\n",
    "\n",
    "Арифметические операции проводятся поэлементно."
   ]
  },
  {
   "cell_type": "code",
   "execution_count": null,
   "metadata": {},
   "outputs": [],
   "source": [
    "a"
   ]
  },
  {
   "cell_type": "code",
   "execution_count": null,
   "metadata": {},
   "outputs": [],
   "source": [
    "b"
   ]
  },
  {
   "cell_type": "code",
   "execution_count": null,
   "metadata": {
    "colab": {},
    "colab_type": "code",
    "id": "XgS7-Hv-eSYT",
    "outputId": "b3b488c8-08b3-449d-f258-0ea5d1377ce9"
   },
   "outputs": [],
   "source": [
    "print(a + b)  # сложение"
   ]
  },
  {
   "cell_type": "code",
   "execution_count": null,
   "metadata": {
    "colab": {},
    "colab_type": "code",
    "id": "qGK2iCjieSYV",
    "outputId": "f1e4def3-57d0-4d53-bf3b-13b30276b27a"
   },
   "outputs": [],
   "source": [
    "print(a - b)  # вычитание"
   ]
  },
  {
   "cell_type": "code",
   "execution_count": null,
   "metadata": {
    "colab": {},
    "colab_type": "code",
    "id": "23KFrhXfeSYX",
    "outputId": "f8d2bd85-1b9d-4312-c70a-e3b887214d27"
   },
   "outputs": [],
   "source": [
    "print(a * b)  # умножение"
   ]
  },
  {
   "cell_type": "code",
   "execution_count": null,
   "metadata": {
    "colab": {},
    "colab_type": "code",
    "id": "wKYv1wzReSYY",
    "outputId": "e8338f65-dcc9-4f4d-ea84-15509fcb903c"
   },
   "outputs": [],
   "source": [
    "print(a / b)  # деление"
   ]
  },
  {
   "cell_type": "code",
   "execution_count": null,
   "metadata": {
    "colab": {},
    "colab_type": "code",
    "id": "rxgiLyK0eSYa",
    "outputId": "7384ac93-e5fb-4232-ad51-898b829f3f7e"
   },
   "outputs": [],
   "source": [
    "print(a ** 2)  # возведение в степень"
   ]
  },
  {
   "cell_type": "markdown",
   "metadata": {
    "colab_type": "text",
    "id": "K8DiU43EeSYc"
   },
   "source": [
    "Когда операнды разных типов, они приводятся к большему типу."
   ]
  },
  {
   "cell_type": "code",
   "execution_count": null,
   "metadata": {
    "colab": {},
    "colab_type": "code",
    "id": "e3zsPgHweSYc",
    "outputId": "672d0f09-3e75-4870-d40f-d29f51409787"
   },
   "outputs": [],
   "source": [
    "i = np.ones(5, dtype=np.int64)  # возвращает массив из пяти элементов типа int64\n",
    "print(a + i)"
   ]
  },
  {
   "cell_type": "markdown",
   "metadata": {
    "colab_type": "text",
    "id": "Hy161lcoeSYd"
   },
   "source": [
    "`numpy` содержит элементарные функции, которые тоже применяются к массивам поэлементно. Они называются универсальными функциями (`ufunc`)."
   ]
  },
  {
   "cell_type": "code",
   "execution_count": null,
   "metadata": {
    "colab": {},
    "colab_type": "code",
    "id": "Dkh0NdmyeSYe",
    "outputId": "eacfe9da-ec0c-4662-e8d4-f8ca435e9efa"
   },
   "outputs": [],
   "source": [
    "np.sin  # функция синуса\n",
    "type(np.sin)"
   ]
  },
  {
   "cell_type": "code",
   "execution_count": null,
   "metadata": {
    "colab": {},
    "colab_type": "code",
    "id": "H5IHOdzVeSYf",
    "outputId": "85130657-7a7d-4c27-f3ce-79cf5dcecda7"
   },
   "outputs": [],
   "source": [
    "print(np.sin(a))"
   ]
  },
  {
   "cell_type": "markdown",
   "metadata": {
    "colab_type": "text",
    "id": "Cm7c1VILeSYh"
   },
   "source": [
    "Один из операндов может быть скаляром, а не массивом."
   ]
  },
  {
   "cell_type": "code",
   "execution_count": null,
   "metadata": {
    "colab": {},
    "colab_type": "code",
    "id": "Wz9kCm0feSYh",
    "outputId": "aaf6e761-c6b0-4672-bd2c-4a5c9163036c"
   },
   "outputs": [],
   "source": [
    "print(a + 1)  # к каждому элементу массива прибавляется 1"
   ]
  },
  {
   "cell_type": "code",
   "execution_count": null,
   "metadata": {
    "colab": {},
    "colab_type": "code",
    "id": "FeacFeQYeSYi",
    "outputId": "67b3c30e-f00c-4fe5-f8d2-1585855292f8"
   },
   "outputs": [],
   "source": [
    "print(2 * a)  # каждый элемент массива умножается на 2"
   ]
  },
  {
   "cell_type": "markdown",
   "metadata": {
    "colab_type": "text",
    "id": "76IhU9CAeSYk"
   },
   "source": [
    "Сравнения дают булевы массивы."
   ]
  },
  {
   "cell_type": "code",
   "execution_count": null,
   "metadata": {
    "colab": {},
    "colab_type": "code",
    "id": "69vVqzSgeSYk",
    "outputId": "1b3770e9-5580-4a2c-a3f5-e5702667a9b0"
   },
   "outputs": [],
   "source": [
    "print(a > b)  # выводится массив из True и False для каждого элемента\n",
    "# количество элементов в массивах должно быть одинаковым"
   ]
  },
  {
   "cell_type": "code",
   "execution_count": null,
   "metadata": {
    "colab": {},
    "colab_type": "code",
    "id": "DwDMZFhSeSYl",
    "outputId": "1f2ec0e7-f7ad-4afd-8a87-8ee1a654364c"
   },
   "outputs": [],
   "source": [
    "print(a == b)"
   ]
  },
  {
   "cell_type": "code",
   "execution_count": null,
   "metadata": {
    "colab": {},
    "colab_type": "code",
    "id": "TbjPskMceSYm",
    "outputId": "5a4ed084-f51e-4244-bd5d-04da70d42eed"
   },
   "outputs": [],
   "source": [
    "c = a > 5\n",
    "print(c)"
   ]
  },
  {
   "cell_type": "markdown",
   "metadata": {
    "colab_type": "text",
    "id": "vQ05bHN4eSYo"
   },
   "source": [
    "Кванторы \"существует\" и \"для всех\"."
   ]
  },
  {
   "cell_type": "code",
   "execution_count": null,
   "metadata": {
    "colab": {},
    "colab_type": "code",
    "id": "HTMkK7wYeSYo",
    "outputId": "f6c971cb-bc8f-41f8-8b76-9250ed527052"
   },
   "outputs": [],
   "source": [
    "np.any(c)  # возвращает True, если хотя бы один элемент массива не None\n",
    "np.all(c)  # возвращает True, если все элементы массива не None"
   ]
  },
  {
   "cell_type": "markdown",
   "metadata": {
    "colab_type": "text",
    "id": "YdXbXq--eSYp"
   },
   "source": [
    "Модификация на месте."
   ]
  },
  {
   "cell_type": "code",
   "execution_count": null,
   "metadata": {},
   "outputs": [],
   "source": [
    "a"
   ]
  },
  {
   "cell_type": "code",
   "execution_count": null,
   "metadata": {
    "colab": {},
    "colab_type": "code",
    "id": "iNT_nYSveSYq",
    "outputId": "f08f9950-3648-40cc-cc4f-144e57d5d8cd"
   },
   "outputs": [],
   "source": [
    "a += 1  # к каждому элементу массива прибавляется 1\n",
    "print(a)"
   ]
  },
  {
   "cell_type": "code",
   "execution_count": null,
   "metadata": {},
   "outputs": [],
   "source": [
    "b"
   ]
  },
  {
   "cell_type": "code",
   "execution_count": null,
   "metadata": {
    "colab": {},
    "colab_type": "code",
    "id": "CItC6JrLeSYr",
    "outputId": "8caecf6e-a7c6-4951-d87d-c1c7e4178ac6"
   },
   "outputs": [],
   "source": [
    "b *= 2  # каждый элемент массива умножается на 2\n",
    "print(b)"
   ]
  },
  {
   "cell_type": "code",
   "execution_count": null,
   "metadata": {
    "colab": {},
    "colab_type": "code",
    "id": "immEdJpGeSYt",
    "outputId": "ff63871a-9c7f-46bb-aeac-50c72ffcea1c"
   },
   "outputs": [],
   "source": [
    "b /= a  # элементы массива b делятся на элементы массива a\n",
    "print(b)"
   ]
  },
  {
   "cell_type": "markdown",
   "metadata": {
    "colab_type": "text",
    "id": "JtiaPtiGeSYu"
   },
   "source": [
    "При выполнении операций над массивами деление на 0 не возбуждает исключения, а даёт значения `np.nan` или `np.inf`."
   ]
  },
  {
   "cell_type": "code",
   "execution_count": null,
   "metadata": {
    "colab": {},
    "colab_type": "code",
    "id": "uksiTX96eSYu",
    "outputId": "87acbc35-f5b3-4362-a3be-f9ad354f3710"
   },
   "outputs": [],
   "source": [
    "print(np.array([0.0, 0.0, 1.0, -1.0]) / np.array([1.0, 0.0, 0.0, 0.0]))"
   ]
  },
  {
   "cell_type": "code",
   "execution_count": null,
   "metadata": {
    "colab": {},
    "colab_type": "code",
    "id": "sXwqQVDHeSYw",
    "outputId": "32727700-8c1e-4d9c-ad45-ba8ea8c4dfd0"
   },
   "outputs": [],
   "source": [
    "np.nan + 1, np.inf + 1, np.inf * 0, 1. / np.inf"
   ]
  },
  {
   "cell_type": "markdown",
   "metadata": {
    "colab_type": "text",
    "id": "ukM-LTuAeSYx"
   },
   "source": [
    "Сумма и произведение всех элементов массива; максимальный и минимальный элемент; среднее и среднеквадратичное отклонение."
   ]
  },
  {
   "cell_type": "code",
   "execution_count": null,
   "metadata": {},
   "outputs": [],
   "source": [
    "b"
   ]
  },
  {
   "cell_type": "code",
   "execution_count": null,
   "metadata": {
    "colab": {},
    "colab_type": "code",
    "id": "ZIo9nEFCeSYx",
    "outputId": "47bb6f64-1b06-4adf-a182-305ead06aa7e"
   },
   "outputs": [],
   "source": [
    "b.sum()  # сумма элементов\n",
    "b.prod()  # произведение элементов\n",
    "b.max()  # максимальный элемент\n",
    "b.min()  # минимальный элемент\n",
    "b.mean()  # среднее значение элементов\n",
    "b.std()  # среднеквадратичное отклонение элементов"
   ]
  },
  {
   "cell_type": "markdown",
   "metadata": {
    "colab_type": "text",
    "id": "rju3ggwJeSYy"
   },
   "source": [
    "Имеются встроенные функции"
   ]
  },
  {
   "cell_type": "code",
   "execution_count": null,
   "metadata": {
    "colab": {},
    "colab_type": "code",
    "id": "H3xDbf6PeSYz",
    "outputId": "a4b1c284-e75b-491a-cac2-06034cf16753"
   },
   "outputs": [],
   "source": [
    "print(np.sqrt(b))  # возведение в квадрат\n",
    "print(np.exp(b))  # экспонента\n",
    "print(np.log(b))  # логарифм\n",
    "print(np.sin(b))  # синус\n",
    "print(np.e, np.pi)  # число e и число pi"
   ]
  },
  {
   "cell_type": "markdown",
   "metadata": {
    "colab_type": "text",
    "id": "g6EBDaBWeSY0"
   },
   "source": [
    "Иногда бывает нужно использовать частичные (кумулятивные) суммы. В нашем курсе такое пригодится."
   ]
  },
  {
   "cell_type": "code",
   "execution_count": null,
   "metadata": {
    "colab": {},
    "colab_type": "code",
    "id": "JzFVH5DIeSY0",
    "outputId": "727bb0ca-dfd2-4649-9dfe-e9baae6a96bc"
   },
   "outputs": [],
   "source": [
    "print(b.cumsum())  # возвращает массив, элементы которого - промежуточные суммы\n",
    "# сложения элементов исходного массива"
   ]
  },
  {
   "cell_type": "markdown",
   "metadata": {
    "colab_type": "text",
    "id": "dyaDa9YXeSY1"
   },
   "source": [
    "#### 2.2 Сортировка, изменение массивов\n",
    "\n",
    "Функция `sort` возвращает отсортированную копию, метод `sort` сортирует на месте."
   ]
  },
  {
   "cell_type": "code",
   "execution_count": null,
   "metadata": {},
   "outputs": [],
   "source": [
    "b"
   ]
  },
  {
   "cell_type": "code",
   "execution_count": null,
   "metadata": {
    "colab": {},
    "colab_type": "code",
    "id": "XS7IRW09eSY2",
    "outputId": "16956a23-2c90-423c-d2e7-1c970097a093"
   },
   "outputs": [],
   "source": [
    "print(np.sort(b))  # сортировка по возрастанию\n",
    "print(b)"
   ]
  },
  {
   "cell_type": "code",
   "execution_count": null,
   "metadata": {
    "colab": {},
    "colab_type": "code",
    "id": "QENzFihJeSY3",
    "outputId": "d98a1e07-e628-4901-e58c-e33589bac5d2"
   },
   "outputs": [],
   "source": [
    "b.sort()\n",
    "print(b)"
   ]
  },
  {
   "cell_type": "markdown",
   "metadata": {
    "colab_type": "text",
    "id": "ZPjBXM_OeSY4"
   },
   "source": [
    "Объединение массивов."
   ]
  },
  {
   "cell_type": "code",
   "execution_count": null,
   "metadata": {},
   "outputs": [],
   "source": [
    "a"
   ]
  },
  {
   "cell_type": "code",
   "execution_count": null,
   "metadata": {},
   "outputs": [],
   "source": [
    "b"
   ]
  },
  {
   "cell_type": "code",
   "execution_count": null,
   "metadata": {
    "colab": {},
    "colab_type": "code",
    "id": "_SYn0MdseSY4",
    "outputId": "a5765f2c-2486-440b-fc62-b781ff5d28db"
   },
   "outputs": [],
   "source": [
    "a = np.hstack((a, b))  # возвращает массив, содержащий в себе\n",
    "# все элементы из a и b\n",
    "print(a)"
   ]
  },
  {
   "cell_type": "markdown",
   "metadata": {
    "colab_type": "text",
    "id": "cT0JM6lZeSY6"
   },
   "source": [
    "Расщепление массива в позициях 3 и 6."
   ]
  },
  {
   "cell_type": "code",
   "execution_count": null,
   "metadata": {
    "colab": {},
    "colab_type": "code",
    "id": "-DVwnZhFeSY6",
    "outputId": "9f401d0a-963b-46a6-afe4-e65854b7d652"
   },
   "outputs": [],
   "source": [
    "np.hsplit(a, [3, 6])  # массив разделяется на три части: 0-2, 3-5 и 6-n"
   ]
  },
  {
   "cell_type": "markdown",
   "metadata": {
    "colab_type": "text",
    "id": "eOZAGZV0eSY7"
   },
   "source": [
    "Функции `delete`, `insert` и `append` не меняют массив на месте, а возвращают новый массив, в котором удалены, вставлены в середину или добавлены в конец какие-то элементы."
   ]
  },
  {
   "cell_type": "code",
   "execution_count": null,
   "metadata": {
    "colab": {},
    "colab_type": "code",
    "id": "G4iDI8hjeSY8",
    "outputId": "49d40d25-1d2d-47e5-936a-9664211f615b"
   },
   "outputs": [],
   "source": [
    "a = np.delete(a, [5, 7])  # удаляются элементы 5 и 7\n",
    "print(a)"
   ]
  },
  {
   "cell_type": "code",
   "execution_count": null,
   "metadata": {
    "colab": {},
    "colab_type": "code",
    "id": "y2FW3FAYeSY9",
    "outputId": "504200b5-c5b9-4560-a08a-9c8f5f0c7033"
   },
   "outputs": [],
   "source": [
    "a = np.insert(a, 2, [0, 0])  # с индекса 2 добавляются элементы 0 и 0\n",
    "print(a)"
   ]
  },
  {
   "cell_type": "code",
   "execution_count": null,
   "metadata": {
    "colab": {},
    "colab_type": "code",
    "id": "DK6c68IxeSY-",
    "outputId": "e7f8e04d-a884-4573-8633-d1f07c3c67a8"
   },
   "outputs": [],
   "source": [
    "a = np.append(a, [1, 2, 3])  # в конец массива добавляются элементы 1, 2, 3\n",
    "print(a)"
   ]
  },
  {
   "cell_type": "markdown",
   "metadata": {
    "colab_type": "text",
    "id": "q669pBe0eSY_"
   },
   "source": [
    "#### 2.3 Способы индексации массивов\n",
    "\n",
    "Есть несколько способов индексации массива. Вот обычный индекс."
   ]
  },
  {
   "cell_type": "code",
   "execution_count": null,
   "metadata": {
    "colab": {},
    "colab_type": "code",
    "id": "oW8SgWFLeSZA",
    "outputId": "923d08cc-7ff7-4e35-da0d-449ec93e5e04"
   },
   "outputs": [],
   "source": [
    "a = np.linspace(0, 1, 11)\n",
    "print(a)"
   ]
  },
  {
   "cell_type": "code",
   "execution_count": null,
   "metadata": {
    "colab": {},
    "colab_type": "code",
    "id": "7eQ_xryueSZB",
    "outputId": "e2250f02-95c9-46a6-a193-5f28206f8cf4"
   },
   "outputs": [],
   "source": [
    "b = a[2]\n",
    "print(b)"
   ]
  },
  {
   "cell_type": "markdown",
   "metadata": {
    "colab_type": "text",
    "id": "corcUOljeSZC"
   },
   "source": [
    "Диапазон индексов. Создаётся новый заголовок массива, указывающий на те же данные. Изменения, сделанные через такой массив, видны и в исходном массиве."
   ]
  },
  {
   "cell_type": "code",
   "execution_count": null,
   "metadata": {
    "colab": {},
    "colab_type": "code",
    "id": "g7sRF3GqeSZC",
    "outputId": "ee84b857-9d43-4b55-ecc4-9d82c9ff5a8d"
   },
   "outputs": [],
   "source": [
    "b = a[2:6]  # элементы от 2 до 5\n",
    "print(b)"
   ]
  },
  {
   "cell_type": "code",
   "execution_count": null,
   "metadata": {
    "colab": {},
    "colab_type": "code",
    "id": "mNJoJFFOeSZE",
    "outputId": "8efeb91a-e1b4-4f24-db1d-73a6395ebab2"
   },
   "outputs": [],
   "source": [
    "b[0] = -0.2\n",
    "print(b)"
   ]
  },
  {
   "cell_type": "code",
   "execution_count": null,
   "metadata": {
    "colab": {},
    "colab_type": "code",
    "id": "PdAUJK9XeSZF",
    "outputId": "e2789d07-7a10-4a3a-ed7d-7e15a20cca5e"
   },
   "outputs": [],
   "source": [
    "print(a)"
   ]
  },
  {
   "cell_type": "markdown",
   "metadata": {
    "colab_type": "text",
    "id": "lE9gziSweSZG"
   },
   "source": [
    "Диапазон с шагом 2."
   ]
  },
  {
   "cell_type": "code",
   "execution_count": null,
   "metadata": {
    "colab": {},
    "colab_type": "code",
    "id": "wLEQPJsXeSZH",
    "outputId": "940aadee-6f78-425d-9dec-b36de9d5abfb"
   },
   "outputs": [],
   "source": [
    "b = a[1:10:2]  # элементы от 1 до 9 с шагом в 2\n",
    "print(b)"
   ]
  },
  {
   "cell_type": "code",
   "execution_count": null,
   "metadata": {
    "colab": {},
    "colab_type": "code",
    "id": "Lw1rqM8WeSZI",
    "outputId": "2f6dfda0-f048-4d9f-f603-99eaa9d6912f"
   },
   "outputs": [],
   "source": [
    "b[0] = -0.1  # a[0] изменится\n",
    "print(a)"
   ]
  },
  {
   "cell_type": "markdown",
   "metadata": {
    "colab_type": "text",
    "id": "Nh9e4ZWNeSZK"
   },
   "source": [
    "Массив в обратном порядке."
   ]
  },
  {
   "cell_type": "code",
   "execution_count": null,
   "metadata": {
    "colab": {},
    "colab_type": "code",
    "id": "LKbKi90neSZK",
    "outputId": "94ef492b-c486-46a1-f22a-cb9e443e0319"
   },
   "outputs": [],
   "source": [
    "b = a[::-1]\n",
    "print(b)"
   ]
  },
  {
   "cell_type": "markdown",
   "metadata": {
    "colab_type": "text",
    "id": "Im8dqbkIeSZL"
   },
   "source": [
    "Подмассиву можно присвоить значение - массив правильного размера или скаляр."
   ]
  },
  {
   "cell_type": "code",
   "execution_count": null,
   "metadata": {
    "colab": {},
    "colab_type": "code",
    "id": "cwQlTL-deSZM",
    "outputId": "15e2ee4d-67f4-41f2-c99d-0e0b51772063"
   },
   "outputs": [],
   "source": [
    "a[1:10:3] = 0 # элементам от 1 до 9 с шагом в 3 будет присвоено значение 0\n",
    "print(a)"
   ]
  },
  {
   "cell_type": "markdown",
   "metadata": {
    "colab_type": "text",
    "id": "NkDtCWUgeSZN"
   },
   "source": [
    "Тут опять создаётся только новый заголовок, указывающий на те же данные."
   ]
  },
  {
   "cell_type": "code",
   "execution_count": null,
   "metadata": {
    "colab": {},
    "colab_type": "code",
    "id": "BSI6oafVeSZO",
    "outputId": "5cfdfb24-2267-4f22-bb27-c520e47d4c4c"
   },
   "outputs": [],
   "source": [
    "b = a[:]\n",
    "b[1] = 0.1  # a[1] изменится\n",
    "print(a)"
   ]
  },
  {
   "cell_type": "markdown",
   "metadata": {
    "colab_type": "text",
    "id": "Zjq__bNXeSZP"
   },
   "source": [
    "Чтобы скопировать и данные массива, нужно использовать метод `copy`."
   ]
  },
  {
   "cell_type": "code",
   "execution_count": null,
   "metadata": {
    "colab": {},
    "colab_type": "code",
    "id": "VVds6EI5eSZP",
    "outputId": "c6eefd02-9510-4d42-c949-8cf35d650925"
   },
   "outputs": [],
   "source": [
    "b = a.copy()\n",
    "b[2] = 0  # a[2] не изменится\n",
    "print(b)\n",
    "print(a)"
   ]
  },
  {
   "cell_type": "markdown",
   "metadata": {
    "colab_type": "text",
    "id": "2ynzvLTmeSZR"
   },
   "source": [
    "Можно задать список индексов."
   ]
  },
  {
   "cell_type": "code",
   "execution_count": null,
   "metadata": {
    "colab": {},
    "colab_type": "code",
    "id": "fRF4VWZmeSZR",
    "outputId": "83918745-b2e0-4e26-9b9f-b756e9cf3e39"
   },
   "outputs": [],
   "source": [
    "print(a[[2, 3, 5]])  # вывод элементов с индексом 2, 3 и 5"
   ]
  },
  {
   "cell_type": "markdown",
   "metadata": {
    "colab_type": "text",
    "id": "JF2kGGHDeSZT"
   },
   "source": [
    "Можно задать булев массив той же величины."
   ]
  },
  {
   "cell_type": "code",
   "execution_count": null,
   "metadata": {
    "colab": {},
    "colab_type": "code",
    "id": "yeFzrHxfeSZT",
    "outputId": "7e0ac209-fe39-42d8-b130-40c559e2f6f2"
   },
   "outputs": [],
   "source": [
    "b = a > 0  # массив, b[i] = True, если a[i]>0\n",
    "print(b)"
   ]
  },
  {
   "cell_type": "code",
   "execution_count": null,
   "metadata": {
    "colab": {},
    "colab_type": "code",
    "id": "CS_Xass1eSZU",
    "outputId": "e739f4a5-cb73-4d4a-ae20-df9577cfb3fc"
   },
   "outputs": [],
   "source": [
    "print(a[b])  # вывод элементов, имеющих те же индексы, что и элементы True в b"
   ]
  },
  {
   "cell_type": "code",
   "execution_count": null,
   "metadata": {},
   "outputs": [],
   "source": [
    "a"
   ]
  },
  {
   "cell_type": "code",
   "execution_count": null,
   "metadata": {},
   "outputs": [],
   "source": [
    "b"
   ]
  },
  {
   "cell_type": "markdown",
   "metadata": {},
   "source": [
    "# Задание 3   \n",
    "## 1)Создайте массив чисел от $-2\\pi$  до $2\\pi$  \n",
    "## 2)Посчитайте сумму элементов созданного массива  \n"
   ]
  },
  {
   "cell_type": "code",
   "execution_count": null,
   "metadata": {},
   "outputs": [],
   "source": [
    "import numpy as np\n",
    "import math as m\n",
    "\n",
    "a = np.array(-2 * m.pi, 2 * m.pi, 15)  # создание массива numpy\n",
    "\n",
    "print(sum(a))  # сумма, стандартная функция python\n",
    "print(a.sum())  # сумма, функция numpy\n"
   ]
  },
  {
   "cell_type": "markdown",
   "metadata": {
    "colab_type": "text",
    "id": "DUBkecfkeSZW"
   },
   "source": [
    "## 3. Двумерные массивы\n",
    "\n",
    "#### 3.1 Создание, простые операции"
   ]
  },
  {
   "cell_type": "code",
   "execution_count": null,
   "metadata": {
    "colab": {},
    "colab_type": "code",
    "id": "kELaHm5YeSZW",
    "outputId": "b39704bd-7891-4508-a2b4-03c5666fc508"
   },
   "outputs": [],
   "source": [
    "a = np.array([[0.0, 1.0], [-1.0, 0.0]])\n",
    "print(a)"
   ]
  },
  {
   "cell_type": "code",
   "execution_count": null,
   "metadata": {
    "colab": {},
    "colab_type": "code",
    "id": "py9Ei8aSeSZX",
    "outputId": "8d23d785-c8f9-4948-c24b-9563fff1314c"
   },
   "outputs": [],
   "source": [
    "a.ndim  # возвращает размерность массива"
   ]
  },
  {
   "cell_type": "code",
   "execution_count": null,
   "metadata": {
    "colab": {},
    "colab_type": "code",
    "id": "0TUKspWjeSZZ",
    "outputId": "7539a5a1-309d-41fd-fb9c-ff20bf0bd0c1"
   },
   "outputs": [],
   "source": [
    "a.shape  # возвращает размеры массива в длину и ширину"
   ]
  },
  {
   "cell_type": "code",
   "execution_count": null,
   "metadata": {
    "colab": {},
    "colab_type": "code",
    "id": "mH7fe1FkeSZa",
    "outputId": "fe005826-629d-433d-a1a1-c6d5159615d7"
   },
   "outputs": [],
   "source": [
    "len(a)  # количество строк двумерного массива\n",
    "a.size  # количество элементов двумерного массива"
   ]
  },
  {
   "cell_type": "code",
   "execution_count": null,
   "metadata": {
    "colab": {},
    "colab_type": "code",
    "id": "fYbyOh3geSZc",
    "outputId": "fd79250f-ee38-447c-e927-1b1e153d9d32"
   },
   "outputs": [],
   "source": [
    "a[1, 0]"
   ]
  },
  {
   "cell_type": "markdown",
   "metadata": {
    "colab_type": "text",
    "id": "WaoO-VOLeSZd"
   },
   "source": [
    "Атрибуту `shape` можно присвоить новое значение - кортеж размеров по всем координатам. Получится новый заголовок массива; его данные не изменятся."
   ]
  },
  {
   "cell_type": "code",
   "execution_count": null,
   "metadata": {
    "colab": {},
    "colab_type": "code",
    "id": "Ht7CInofeSZe",
    "outputId": "84e9180d-520c-4bed-c7e6-17ac6694c4d9"
   },
   "outputs": [],
   "source": [
    "b = np.linspace(0, 3, 4)\n",
    "print(b)"
   ]
  },
  {
   "cell_type": "code",
   "execution_count": null,
   "metadata": {
    "colab": {},
    "colab_type": "code",
    "id": "LmOZ33breSZf",
    "outputId": "c06d123f-70ac-4fcb-bd71-db4a3c1a12dd"
   },
   "outputs": [],
   "source": [
    "b.shape"
   ]
  },
  {
   "cell_type": "code",
   "execution_count": null,
   "metadata": {
    "colab": {},
    "colab_type": "code",
    "id": "_TYvZX8eeSZg",
    "outputId": "a9094daf-74f7-4765-9ac3-c2a14f3d41fb"
   },
   "outputs": [],
   "source": [
    "b.shape = 2, 2  # изменить форму: 2 строки, 2 столбца\n",
    "print(b)"
   ]
  },
  {
   "cell_type": "markdown",
   "metadata": {
    "colab_type": "text",
    "id": "jWVJLH9ZeSZh"
   },
   "source": [
    "Можно растянуть в одномерный массив"
   ]
  },
  {
   "cell_type": "code",
   "execution_count": null,
   "metadata": {
    "colab": {},
    "colab_type": "code",
    "id": "aJdF4hyreSZi",
    "outputId": "b4070370-9526-415c-a071-faf40d88cd08"
   },
   "outputs": [],
   "source": [
    "print(b.ravel())"
   ]
  },
  {
   "cell_type": "markdown",
   "metadata": {
    "colab_type": "text",
    "id": "ff31TTeHeSZj"
   },
   "source": [
    "Арифметические операции поэлементные"
   ]
  },
  {
   "cell_type": "code",
   "execution_count": null,
   "metadata": {
    "colab": {},
    "colab_type": "code",
    "id": "a6WXKEj4eSZj",
    "outputId": "92b9abe3-71b8-4fce-b905-2f921f6be6f2"
   },
   "outputs": [],
   "source": [
    "print(a + 1)\n",
    "print(a * 2)\n",
    "print(a + [0, 1])  # второе слагаемое дополняется до матрицы копированием строк\n",
    "print(a + np.array([[0, 2]]).T)  # .T - транспонирование\n",
    "print(a + b)"
   ]
  },
  {
   "cell_type": "markdown",
   "metadata": {
    "colab_type": "text",
    "id": "nLIlrz-BeSZl"
   },
   "source": [
    "#### 3.2 Работа с матрицами\n",
    "\n",
    "Поэлементное и матричное (только в Python >=3.5) умножение."
   ]
  },
  {
   "cell_type": "code",
   "execution_count": null,
   "metadata": {
    "colab": {},
    "colab_type": "code",
    "id": "xAUzdffSeSZl",
    "outputId": "cab10b40-e52e-4395-eb0a-a47b54ba792d"
   },
   "outputs": [],
   "source": [
    "print(a * b)  # поэлементное произведение"
   ]
  },
  {
   "cell_type": "code",
   "execution_count": null,
   "metadata": {
    "colab": {},
    "colab_type": "code",
    "id": "GAI2uX5PeSZn",
    "outputId": "958fb829-3ddf-4e2f-ddef-c846c2a55ef9"
   },
   "outputs": [],
   "source": [
    "print(a @ b)  # матричное произведение"
   ]
  },
  {
   "cell_type": "code",
   "execution_count": null,
   "metadata": {
    "colab": {},
    "colab_type": "code",
    "id": "6ERS9kXLeSZp",
    "outputId": "802d6140-2206-44ba-8508-13f2fd5b4fe5"
   },
   "outputs": [],
   "source": [
    "print(b @ a)  # матричное произведение"
   ]
  },
  {
   "cell_type": "markdown",
   "metadata": {},
   "source": [
    "# Задание 4: создайте две матрицы $ \\left( \\begin{pmatrix} -3 & 4 \\\\ 4 & 3 \\end{pmatrix},  \\begin{pmatrix} 2 & 1 \\\\ 1 & 2 \\end{pmatrix} \\right)$. Посчитайте их поэлементное и матричное произведения."
   ]
  },
  {
   "cell_type": "code",
   "execution_count": null,
   "metadata": {},
   "outputs": [],
   "source": [
    "import numpy as np\n",
    "\n",
    "a = np.array([[-3, 4], [4, 3]])  # создание массива numpy\n",
    "b = np.array([[2, 1], [1, 2]])  # создание массива numpy\n",
    "\n",
    "print(a * b)  # поэлементное произведение\n",
    "print(a @ b)  # матричное произведение"
   ]
  },
  {
   "cell_type": "markdown",
   "metadata": {
    "colab_type": "text",
    "id": "-3Wm4rIieSZ3"
   },
   "source": [
    "Умножение матрицы на вектор."
   ]
  },
  {
   "cell_type": "code",
   "execution_count": null,
   "metadata": {
    "colab": {},
    "colab_type": "code",
    "id": "mXgY1mBoeSZ4",
    "outputId": "00f5363f-02d2-43fe-d048-e477411e2152"
   },
   "outputs": [],
   "source": [
    "v = np.array([1, -1], dtype=np.float64)\n",
    "print(b @ v)"
   ]
  },
  {
   "cell_type": "code",
   "execution_count": null,
   "metadata": {
    "colab": {},
    "colab_type": "code",
    "id": "A0Emfd5ueSZ5",
    "outputId": "f2c88401-c9ee-4c20-932b-7a5837e6bdda"
   },
   "outputs": [],
   "source": [
    "print(v @ b)"
   ]
  },
  {
   "cell_type": "markdown",
   "metadata": {
    "colab_type": "text",
    "id": "uJp4qRrOeSZ6"
   },
   "source": [
    "Если у вас Питон более ранней версии, то для работы с матрицами можно использовать класс `np.matrix`, в котором операция умножения реализуется как матричное умножение."
   ]
  },
  {
   "cell_type": "code",
   "execution_count": null,
   "metadata": {
    "colab": {},
    "colab_type": "code",
    "id": "a84Su-DneSZ6",
    "outputId": "da6ecf6a-2389-45be-99ea-f4d86ca2763e"
   },
   "outputs": [],
   "source": [
    "np.matrix(a) * np.matrix(b)"
   ]
  },
  {
   "cell_type": "markdown",
   "metadata": {
    "colab_type": "text",
    "id": "ttfS-0_GeSZ7"
   },
   "source": [
    "Внешнее произведение $a_{ij}=u_i v_j$"
   ]
  },
  {
   "cell_type": "code",
   "execution_count": null,
   "metadata": {
    "colab": {},
    "colab_type": "code",
    "id": "hzr6tlLdeSZ8",
    "outputId": "e652c638-2c80-44a7-af69-b537aea56fc8"
   },
   "outputs": [],
   "source": [
    "u = np.linspace(1, 2, 2)\n",
    "v = np.linspace(2, 4, 3)\n",
    "print(u)\n",
    "print(v)"
   ]
  },
  {
   "cell_type": "code",
   "execution_count": null,
   "metadata": {
    "colab": {},
    "colab_type": "code",
    "id": "FcsJmsiGeSZ9",
    "outputId": "6604755f-b5e6-48d6-f99c-94caa9364972"
   },
   "outputs": [],
   "source": [
    "a = np.outer(u, v)  # возвращает двумерный массив внешнего произведения\n",
    "print(a)"
   ]
  },
  {
   "cell_type": "markdown",
   "metadata": {
    "colab_type": "text",
    "id": "Aa_dWlyveSZ-"
   },
   "source": [
    "Двумерные массивы, зависящие только от одного индекса: $x_{ij}=u_j$, $y_{ij}=v_i$"
   ]
  },
  {
   "cell_type": "code",
   "execution_count": null,
   "metadata": {
    "colab": {},
    "colab_type": "code",
    "id": "4i6zYBg9eSZ_",
    "outputId": "51e7ec74-0c54-475e-bfdd-97e853a3462b"
   },
   "outputs": [],
   "source": [
    "x, y = np.meshgrid(u, v)  # возвращает:\n",
    "# массив x - из строк массива u, где высота - длина массива v \n",
    "# массив y - со столбцами из строк массива u, где высота - длина массива v \n",
    "print(x)\n",
    "print(y)"
   ]
  },
  {
   "cell_type": "markdown",
   "metadata": {
    "colab_type": "text",
    "id": "KwK4g9gZeSaA"
   },
   "source": [
    "Единичная матрица."
   ]
  },
  {
   "cell_type": "code",
   "execution_count": null,
   "metadata": {
    "colab": {},
    "colab_type": "code",
    "id": "ST8KOHBWeSaB",
    "outputId": "9480677f-8f76-404a-b8c7-941e1657afe2"
   },
   "outputs": [],
   "source": [
    "I = np.eye(4)  # возвращает двумерную матрицу 4 на 4 с единицами на главной диагонали и нулями на всех остальных позициях\n",
    "print(I)"
   ]
  },
  {
   "cell_type": "markdown",
   "metadata": {
    "colab_type": "text",
    "id": "zDOuMhIzeSaC"
   },
   "source": [
    "Метод `reshape` делает то же самое, что присваивание атрибуту `shape`."
   ]
  },
  {
   "cell_type": "code",
   "execution_count": null,
   "metadata": {
    "colab": {},
    "colab_type": "code",
    "id": "iV0R_x39eSaC",
    "outputId": "8937832a-9cd3-4151-fd00-8a5d59d59e0d"
   },
   "outputs": [],
   "source": [
    "print(I.reshape(16))"
   ]
  },
  {
   "cell_type": "code",
   "execution_count": null,
   "metadata": {
    "colab": {},
    "colab_type": "code",
    "id": "uIEi4h1MeSaD",
    "outputId": "13c7b053-9df1-47b2-d91f-99b4c1a36c1e"
   },
   "outputs": [],
   "source": [
    "print(I.reshape(2, 8))"
   ]
  },
  {
   "cell_type": "markdown",
   "metadata": {
    "colab_type": "text",
    "id": "HfQZjZZleSaE"
   },
   "source": [
    "Строка."
   ]
  },
  {
   "cell_type": "code",
   "execution_count": null,
   "metadata": {
    "colab": {},
    "colab_type": "code",
    "id": "dU-B5CsdeSaE",
    "outputId": "86695fcf-fccd-4349-f6a0-8d4224d4fa16"
   },
   "outputs": [],
   "source": [
    "print(I[1])"
   ]
  },
  {
   "cell_type": "markdown",
   "metadata": {
    "colab_type": "text",
    "id": "ptRot99NeSaF"
   },
   "source": [
    "Цикл по строкам."
   ]
  },
  {
   "cell_type": "code",
   "execution_count": null,
   "metadata": {
    "colab": {},
    "colab_type": "code",
    "id": "CQ3h7yA0eSaG",
    "outputId": "ad99173b-72eb-411b-acfe-63d1f6edaaa8"
   },
   "outputs": [],
   "source": [
    "for row in I:\n",
    "    print(row)"
   ]
  },
  {
   "cell_type": "markdown",
   "metadata": {
    "colab_type": "text",
    "id": "V6lshMkHeSaH"
   },
   "source": [
    "Столбец."
   ]
  },
  {
   "cell_type": "code",
   "execution_count": null,
   "metadata": {
    "colab": {},
    "colab_type": "code",
    "id": "orbMt6WMeSaH",
    "outputId": "61a6ab9d-3168-40fb-fb1b-7c618564bbcc"
   },
   "outputs": [],
   "source": [
    "print(I[:, 2])"
   ]
  },
  {
   "cell_type": "markdown",
   "metadata": {
    "colab_type": "text",
    "id": "nqnUtI-SeSaI"
   },
   "source": [
    "Подматрица."
   ]
  },
  {
   "cell_type": "code",
   "execution_count": null,
   "metadata": {
    "colab": {},
    "colab_type": "code",
    "id": "p8ycTAw3eSaI",
    "outputId": "f4f658ab-b32e-4a6d-e14c-ad5e6c9b2f2a"
   },
   "outputs": [],
   "source": [
    "print(I[0:2, 1:3])"
   ]
  },
  {
   "cell_type": "markdown",
   "metadata": {
    "colab_type": "text",
    "id": "wDDkZc3WeSaJ"
   },
   "source": [
    "Можно построить двумерный массив из функции."
   ]
  },
  {
   "cell_type": "code",
   "execution_count": null,
   "metadata": {
    "colab": {},
    "colab_type": "code",
    "id": "KXCnqDLKeSaK",
    "outputId": "41baf3dd-3f2c-4cba-aed9-956074545219"
   },
   "outputs": [],
   "source": [
    "def f(i, j):\n",
    "    print(i)\n",
    "    print(j)\n",
    "    return 10 * i + j\n",
    "\n",
    "print(np.fromfunction(f, (4, 4), dtype=np.int64))  # массив 4 на 4 типа int64, где значения ячеек вычисляются функцией f"
   ]
  },
  {
   "cell_type": "markdown",
   "metadata": {
    "colab_type": "text",
    "id": "OFz0xwrreSaL"
   },
   "source": [
    "Транспонированная матрица."
   ]
  },
  {
   "cell_type": "code",
   "execution_count": null,
   "metadata": {
    "colab": {},
    "colab_type": "code",
    "id": "Z4J5zzvNeSaL",
    "outputId": "e07d805c-e69c-4012-aec4-4e1c9bf3782a"
   },
   "outputs": [],
   "source": [
    "print(b.T)  # замена строк на столбцы"
   ]
  },
  {
   "cell_type": "markdown",
   "metadata": {
    "colab_type": "text",
    "id": "yGeRknu3eSaM"
   },
   "source": [
    "Соединение матриц по горизонтали и по вертикали."
   ]
  },
  {
   "cell_type": "code",
   "execution_count": null,
   "metadata": {
    "colab": {},
    "colab_type": "code",
    "id": "ObH0A6B3eSaM",
    "outputId": "685180f8-fe0e-4672-8f87-2d262adb4479"
   },
   "outputs": [],
   "source": [
    "a = np.array([[0, 1], [2, 3]])\n",
    "b = np.array([[4, 5, 6], [7, 8, 9]])\n",
    "c = np.array([[4, 5], [6, 7], [8, 9]])\n",
    "print(a)\n",
    "print(b)\n",
    "print(c)"
   ]
  },
  {
   "cell_type": "code",
   "execution_count": null,
   "metadata": {
    "colab": {},
    "colab_type": "code",
    "id": "0cpapPNveSaN",
    "outputId": "20269a2b-16f0-49c6-8ad6-81e038f71c20"
   },
   "outputs": [],
   "source": [
    "print(np.hstack((a, b)))  # соединение по горизонтали"
   ]
  },
  {
   "cell_type": "code",
   "execution_count": null,
   "metadata": {
    "colab": {},
    "colab_type": "code",
    "id": "EPxXHWTAeSaO",
    "outputId": "733118e5-dca3-4446-985a-aa69816252dc"
   },
   "outputs": [],
   "source": [
    "print(np.vstack((a, c)))  # соединение по вертикали"
   ]
  },
  {
   "cell_type": "markdown",
   "metadata": {
    "colab_type": "text",
    "id": "i3SBcbGzeSaP"
   },
   "source": [
    "Сумма всех элементов; суммы столбцов; суммы строк."
   ]
  },
  {
   "cell_type": "code",
   "execution_count": null,
   "metadata": {
    "colab": {},
    "colab_type": "code",
    "id": "kQLBs3mHeSaP",
    "outputId": "b6dea51d-5bd4-4221-9a64-47e37caf87a0"
   },
   "outputs": [],
   "source": [
    "print(b.sum())  # сумма всех элементов\n",
    "print(b.sum(axis=0))  # суммы столбцов\n",
    "print(b.sum(axis=1))  # суммы строк"
   ]
  },
  {
   "cell_type": "markdown",
   "metadata": {
    "colab_type": "text",
    "id": "rc8otaIBeSaQ"
   },
   "source": [
    "Аналогично работают `prod`, `max`, `min` и т.д."
   ]
  },
  {
   "cell_type": "code",
   "execution_count": null,
   "metadata": {
    "colab": {},
    "colab_type": "code",
    "id": "822so2-9eSaQ",
    "outputId": "94a0cc60-e0e6-48a3-8f16-6b08742a4f1d"
   },
   "outputs": [],
   "source": [
    "print(b.max())  # максимальный элемент среди всех элементов\n",
    "print(b.max(axis=0))  # максимальные элементы среди столбцов\n",
    "print(b.min(axis=1))  # максимальные элементы среди строк"
   ]
  },
  {
   "cell_type": "markdown",
   "metadata": {
    "colab_type": "text",
    "id": "AlzAeJI-eSaR"
   },
   "source": [
    "След - сумма диагональных элементов."
   ]
  },
  {
   "cell_type": "code",
   "execution_count": null,
   "metadata": {
    "colab": {},
    "colab_type": "code",
    "id": "-BlaKobheSaR",
    "outputId": "8e4b311b-e353-4f7e-f31c-63daa6ec57ad"
   },
   "outputs": [],
   "source": [
    "np.trace(a)  # сумма элементов по главной диагонали"
   ]
  },
  {
   "cell_type": "markdown",
   "metadata": {
    "colab_type": "text",
    "id": "huwe8P9LeSaq"
   },
   "source": [
    "## 4. Сохранение в файл и чтение из файла"
   ]
  },
  {
   "cell_type": "code",
   "execution_count": null,
   "metadata": {
    "colab": {},
    "colab_type": "code",
    "id": "2XDE5GHzeSar"
   },
   "outputs": [],
   "source": [
    "x = np.arange(0, 25, 0.5).reshape((5, 10))\n",
    "\n",
    "# Сохраняем в файл example.txt данные x в формате с двумя точками после запятой и разделителем ';'\n",
    "np.savetxt('c:\\JupyterCode\\example.txt', x, fmt='%.2f', delimiter=';')"
   ]
  },
  {
   "cell_type": "markdown",
   "metadata": {
    "colab_type": "text",
    "id": "EMfZ9-KceSat"
   },
   "source": [
    "Теперь его можно прочитать"
   ]
  },
  {
   "cell_type": "code",
   "execution_count": null,
   "metadata": {
    "colab": {},
    "colab_type": "code",
    "id": "AzLywGeKeSat",
    "outputId": "494c4167-bc92-48f0-9049-22bdf4ebfb80"
   },
   "outputs": [],
   "source": [
    "x = np.loadtxt('example.txt', delimiter=';')  # выгрузить текст из файла example.txt с разделителем ';'\n",
    "print(x)"
   ]
  },
  {
   "cell_type": "markdown",
   "metadata": {
    "colab_type": "text",
    "id": "Y4voLe-LeSau"
   },
   "source": [
    "## 5. Производительность numpy\n",
    "\n",
    "Посмотрим на простой пример --- сумма первых $10^8$ чисел."
   ]
  },
  {
   "cell_type": "code",
   "execution_count": null,
   "metadata": {
    "colab": {},
    "colab_type": "code",
    "id": "nvCQ_4WReSav",
    "outputId": "56d941b0-f0b8-4e42-dd04-8b9fc0ad3ab5"
   },
   "outputs": [],
   "source": [
    "%%time\n",
    "\n",
    "sum_value = 0\n",
    "for i in range(10 ** 8):\n",
    "    sum_value += i\n",
    "print(sum_value)"
   ]
  },
  {
   "cell_type": "markdown",
   "metadata": {
    "colab_type": "text",
    "id": "v4SQIcy8eSaw"
   },
   "source": [
    "Немного улучшеный код"
   ]
  },
  {
   "cell_type": "code",
   "execution_count": null,
   "metadata": {
    "colab": {},
    "colab_type": "code",
    "id": "ewr9BFMpeSaw",
    "outputId": "f26df289-8e21-479d-da96-0d1a877c82ec"
   },
   "outputs": [],
   "source": [
    "%%time\n",
    "\n",
    "sum_value = sum(range(10 ** 8))\n",
    "print(sum_value)"
   ]
  },
  {
   "cell_type": "markdown",
   "metadata": {
    "colab_type": "text",
    "id": "pUjiYs86eSax"
   },
   "source": [
    "Код с использованием функций библиотеки numpy"
   ]
  },
  {
   "cell_type": "code",
   "execution_count": null,
   "metadata": {
    "colab": {},
    "colab_type": "code",
    "id": "Jv6RFksoeSax",
    "outputId": "956f4589-0e80-4502-cb91-f1089e3015c0"
   },
   "outputs": [],
   "source": [
    "%%time\n",
    "\n",
    "sum_value = np.arange(10 ** 8).sum()\n",
    "print(sum_value)"
   ]
  },
  {
   "cell_type": "markdown",
   "metadata": {
    "colab_type": "text",
    "id": "ya-V2P3veSay"
   },
   "source": [
    "Простой и понятный код работает в $30$ раз быстрее!\n",
    "\n",
    "Посмотрим на другой пример. Сгенерируем матрицу размера $500\\times1000$, и вычислим средний минимум по колонкам.\n",
    "\n",
    "Простой код, но при этом даже использующий некоторые питон-функции\n",
    "\n",
    "*Замечание*. Далее с помощью `scipy.stats` происходит генерация случайных чисел из равномерного распределения на отрезке $[0, 1]$. Этот модуль будем изучать на следующем занятии."
   ]
  },
  {
   "cell_type": "code",
   "execution_count": null,
   "metadata": {
    "colab": {},
    "colab_type": "code",
    "id": "Ulfmy68keSaz"
   },
   "outputs": [],
   "source": [
    "import scipy.stats as sps"
   ]
  },
  {
   "cell_type": "code",
   "execution_count": null,
   "metadata": {
    "colab": {},
    "colab_type": "code",
    "id": "bp_qnnwPeSaz",
    "outputId": "2b3ec1fd-b0a7-4166-ad31-8a1a45040699"
   },
   "outputs": [],
   "source": [
    "%%time\n",
    "\n",
    "N, M = 500, 1000\n",
    "matrix = []\n",
    "for i in range(N):\n",
    "    matrix.append([sps.uniform.rvs() for j in range(M)])\n",
    "\n",
    "min_col = [min([matrix[i][j] for i in range(N)]) for j in range(M)]\n",
    "mean_min = sum(min_col) / N\n",
    "print(mean_min)"
   ]
  },
  {
   "cell_type": "markdown",
   "metadata": {
    "colab_type": "text",
    "id": "c47oHwHzeSa0"
   },
   "source": [
    "Понятный код с использованием функций библиотеки numpy"
   ]
  },
  {
   "cell_type": "code",
   "execution_count": null,
   "metadata": {
    "colab": {},
    "colab_type": "code",
    "id": "h1WGN9hseSa0",
    "outputId": "7e9c2643-8907-4339-ef24-b34c3f92b0f5"
   },
   "outputs": [],
   "source": [
    "%%time\n",
    "\n",
    "N, M = 500, 1000\n",
    "matrix = sps.uniform.rvs(size=(N, M))\n",
    "mean_min = matrix.min(axis=1).mean()\n",
    "print(mean_min)"
   ]
  },
  {
   "cell_type": "markdown",
   "metadata": {
    "colab_type": "text",
    "id": "ABVSxP6seSa1"
   },
   "source": [
    "Простой и понятный код работает в 1500 раз быстрее!"
   ]
  }
 ],
 "metadata": {
  "colab": {
   "name": "02-numpy.ipynb",
   "provenance": []
  },
  "kernelspec": {
   "display_name": "Python 3",
   "language": "python",
   "name": "python3"
  },
  "language_info": {
   "codemirror_mode": {
    "name": "ipython",
    "version": 3
   },
   "file_extension": ".py",
   "mimetype": "text/x-python",
   "name": "python",
   "nbconvert_exporter": "python",
   "pygments_lexer": "ipython3",
   "version": "3.8.3"
  }
 },
 "nbformat": 4,
 "nbformat_minor": 1
}
