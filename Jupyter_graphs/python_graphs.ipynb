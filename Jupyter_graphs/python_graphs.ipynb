{
 "cells": [
  {
   "cell_type": "code",
   "execution_count": 1,
   "metadata": {},
   "outputs": [],
   "source": [
    "import pandas as pd\n",
    "import numpy as np\n",
    "import matplotlib.pyplot as plt\n",
    "import matplotlib.axes as ax"
   ]
  },
  {
   "cell_type": "code",
   "execution_count": 2,
   "metadata": {},
   "outputs": [],
   "source": [
    "# Numpy"
   ]
  },
  {
   "cell_type": "code",
   "execution_count": 8,
   "metadata": {},
   "outputs": [
    {
     "name": "stdout",
     "output_type": "stream",
     "text": [
      "[1 3 5 7 9]\n"
     ]
    }
   ],
   "source": [
    "# a = np.array([1,5,8])\n",
    "# a = np.array([0, 2, 1])\n",
    "# b = np.array([6, 4, 2])\n",
    "ar = np.arange(1, 10, 2) # массив из range\n",
    "\n",
    "print(ar)"
   ]
  },
  {
   "cell_type": "code",
   "execution_count": 23,
   "metadata": {},
   "outputs": [
    {
     "name": "stdout",
     "output_type": "stream",
     "text": [
      "[2 4 6]\n"
     ]
    }
   ],
   "source": [
    "# print(a)\n",
    "# a = np.array([0, 2, 1])\n",
    "b = np.array([6, 4, 2])\n",
    "# print(a - b)\n",
    "# print(b.sum())\n",
    "# print(b.max())\n",
    "\n",
    "print(np.sort(b))"
   ]
  },
  {
   "cell_type": "code",
   "execution_count": null,
   "metadata": {},
   "outputs": [],
   "source": [
    "# Pandas"
   ]
  },
  {
   "cell_type": "code",
   "execution_count": 28,
   "metadata": {},
   "outputs": [],
   "source": [
    "dataList = [\n",
    "    { 'date': '2020-07-01', 'value': 100 },\n",
    "    { 'date': '2020-07-02', 'value': 200 },\n",
    "    { 'date': '2020-07-03', 'value': 300 },\n",
    "    { 'date': '2020-07-04', 'value': 400 },\n",
    "    { 'date': '2020-07-05', 'value': 500 },\n",
    "    { 'date': '2020-07-05', 'value': 600 },\n",
    "    { 'date': '2020-07-05', 'value': 700 },\n",
    "    { 'date': '2020-07-05', 'value': 800 },\n",
    "]"
   ]
  },
  {
   "cell_type": "code",
   "execution_count": 36,
   "metadata": {},
   "outputs": [
    {
     "data": {
      "text/html": [
       "<div>\n",
       "<style scoped>\n",
       "    .dataframe tbody tr th:only-of-type {\n",
       "        vertical-align: middle;\n",
       "    }\n",
       "\n",
       "    .dataframe tbody tr th {\n",
       "        vertical-align: top;\n",
       "    }\n",
       "\n",
       "    .dataframe thead th {\n",
       "        text-align: right;\n",
       "    }\n",
       "</style>\n",
       "<table border=\"1\" class=\"dataframe\">\n",
       "  <thead>\n",
       "    <tr style=\"text-align: right;\">\n",
       "      <th></th>\n",
       "      <th>date</th>\n",
       "      <th>value</th>\n",
       "    </tr>\n",
       "  </thead>\n",
       "  <tbody>\n",
       "    <tr>\n",
       "      <th>0</th>\n",
       "      <td>2020-07-01</td>\n",
       "      <td>100</td>\n",
       "    </tr>\n",
       "    <tr>\n",
       "      <th>1</th>\n",
       "      <td>2020-07-02</td>\n",
       "      <td>200</td>\n",
       "    </tr>\n",
       "    <tr>\n",
       "      <th>2</th>\n",
       "      <td>2020-07-03</td>\n",
       "      <td>300</td>\n",
       "    </tr>\n",
       "    <tr>\n",
       "      <th>3</th>\n",
       "      <td>2020-07-04</td>\n",
       "      <td>400</td>\n",
       "    </tr>\n",
       "    <tr>\n",
       "      <th>4</th>\n",
       "      <td>2020-07-05</td>\n",
       "      <td>500</td>\n",
       "    </tr>\n",
       "  </tbody>\n",
       "</table>\n",
       "</div>"
      ],
      "text/plain": [
       "         date  value\n",
       "0  2020-07-01    100\n",
       "1  2020-07-02    200\n",
       "2  2020-07-03    300\n",
       "3  2020-07-04    400\n",
       "4  2020-07-05    500"
      ]
     },
     "execution_count": 36,
     "metadata": {},
     "output_type": "execute_result"
    }
   ],
   "source": [
    "# d = pd.DataFrame(dataList)\n",
    "df = pd.DataFrame(dataList)\n",
    "# print(df)\n",
    "\n",
    "df.head()\n",
    "# df.head(3)\n",
    "# df.tail()"
   ]
  },
  {
   "cell_type": "code",
   "execution_count": 38,
   "metadata": {},
   "outputs": [
    {
     "name": "stdout",
     "output_type": "stream",
     "text": [
      "500\n"
     ]
    }
   ],
   "source": [
    "print(df['value'][4])\n",
    "\n",
    "# print(df['date'][6])\n",
    "\n",
    "# df['value'][3]"
   ]
  },
  {
   "cell_type": "code",
   "execution_count": 26,
   "metadata": {},
   "outputs": [],
   "source": [
    "# Matplotlib"
   ]
  },
  {
   "cell_type": "code",
   "execution_count": 48,
   "metadata": {},
   "outputs": [
    {
     "data": {
      "text/html": [
       "<div>\n",
       "<style scoped>\n",
       "    .dataframe tbody tr th:only-of-type {\n",
       "        vertical-align: middle;\n",
       "    }\n",
       "\n",
       "    .dataframe tbody tr th {\n",
       "        vertical-align: top;\n",
       "    }\n",
       "\n",
       "    .dataframe thead th {\n",
       "        text-align: right;\n",
       "    }\n",
       "</style>\n",
       "<table border=\"1\" class=\"dataframe\">\n",
       "  <thead>\n",
       "    <tr style=\"text-align: right;\">\n",
       "      <th></th>\n",
       "      <th>date</th>\n",
       "      <th>value</th>\n",
       "    </tr>\n",
       "  </thead>\n",
       "  <tbody>\n",
       "    <tr>\n",
       "      <th>0</th>\n",
       "      <td>15</td>\n",
       "      <td>100</td>\n",
       "    </tr>\n",
       "    <tr>\n",
       "      <th>1</th>\n",
       "      <td>15</td>\n",
       "      <td>200</td>\n",
       "    </tr>\n",
       "    <tr>\n",
       "      <th>2</th>\n",
       "      <td>1</td>\n",
       "      <td>100</td>\n",
       "    </tr>\n",
       "    <tr>\n",
       "      <th>3</th>\n",
       "      <td>150</td>\n",
       "      <td>400</td>\n",
       "    </tr>\n",
       "    <tr>\n",
       "      <th>4</th>\n",
       "      <td>28</td>\n",
       "      <td>500</td>\n",
       "    </tr>\n",
       "  </tbody>\n",
       "</table>\n",
       "</div>"
      ],
      "text/plain": [
       "   date  value\n",
       "0    15    100\n",
       "1    15    200\n",
       "2     1    100\n",
       "3   150    400\n",
       "4    28    500"
      ]
     },
     "execution_count": 48,
     "metadata": {},
     "output_type": "execute_result"
    }
   ],
   "source": [
    "dataList = [\n",
    "    { 'date': 15, 'value': 100 },\n",
    "    { 'date': 15, 'value': 200 },\n",
    "    { 'date': 1, 'value': 100 },\n",
    "    { 'date': 150, 'value': 400 },\n",
    "    { 'date': 28, 'value': 500 },\n",
    "    { 'date': 28, 'value': 10 },\n",
    "    { 'date': 28, 'value': 7 },\n",
    "    { 'date': 28, 'value': 500 },\n",
    "]\n",
    "df = pd.DataFrame(dataList)\n",
    "df.head()"
   ]
  },
  {
   "cell_type": "code",
   "execution_count": 46,
   "metadata": {},
   "outputs": [
    {
     "data": {
      "text/plain": [
       "array([[<matplotlib.axes._subplots.AxesSubplot object at 0x000001F93743BA30>]],\n",
       "      dtype=object)"
      ]
     },
     "execution_count": 46,
     "metadata": {},
     "output_type": "execute_result"
    },
    {
     "data": {
      "image/png": "[encoded data removed]",
      "text/plain": [
       "<Figure size 432x288 with 1 Axes>"
      ]
     },
     "metadata": {
      "needs_background": "light"
     },
     "output_type": "display_data"
    }
   ],
   "source": [
    "df.hist(column = ['date'])\n",
    "# df.hist(column = ['value'])\n",
    "# df.hist()\n",
    "# df.hist(column = ['value'])"
   ]
  },
  {
   "cell_type": "code",
   "execution_count": 49,
   "metadata": {},
   "outputs": [
    {
     "data": {
      "image/png": "[encoded data removed]",
      "text/plain": [
       "<Figure size 432x288 with 1 Axes>"
      ]
     },
     "metadata": {
      "needs_background": "light"
     },
     "output_type": "display_data"
    }
   ],
   "source": [
    "# df.plot()\n",
    "df.plot()\n",
    "plt.show()"
   ]
  },
  {
   "cell_type": "code",
   "execution_count": null,
   "metadata": {},
   "outputs": [],
   "source": []
  },
  {
   "cell_type": "code",
   "execution_count": 60,
   "metadata": {},
   "outputs": [
    {
     "data": {
      "text/html": [
       "<div>\n",
       "<style scoped>\n",
       "    .dataframe tbody tr th:only-of-type {\n",
       "        vertical-align: middle;\n",
       "    }\n",
       "\n",
       "    .dataframe tbody tr th {\n",
       "        vertical-align: top;\n",
       "    }\n",
       "\n",
       "    .dataframe thead th {\n",
       "        text-align: right;\n",
       "    }\n",
       "</style>\n",
       "<table border=\"1\" class=\"dataframe\">\n",
       "  <thead>\n",
       "    <tr style=\"text-align: right;\">\n",
       "      <th></th>\n",
       "      <th>09:20:06</th>\n",
       "      <th>CPU</th>\n",
       "      <th>%usr</th>\n",
       "      <th>%nice</th>\n",
       "      <th>%sys</th>\n",
       "      <th>%iowait</th>\n",
       "      <th>%steal</th>\n",
       "      <th>%irq</th>\n",
       "      <th>%soft</th>\n",
       "      <th>%guest</th>\n",
       "      <th>%idle</th>\n",
       "    </tr>\n",
       "  </thead>\n",
       "  <tbody>\n",
       "    <tr>\n",
       "      <th>0</th>\n",
       "      <td>09:21:06</td>\n",
       "      <td>all</td>\n",
       "      <td>4.98</td>\n",
       "      <td>0.00</td>\n",
       "      <td>5.10</td>\n",
       "      <td>0.00</td>\n",
       "      <td>0.00</td>\n",
       "      <td>0.00</td>\n",
       "      <td>0.06</td>\n",
       "      <td>0.00</td>\n",
       "      <td>89.86</td>\n",
       "    </tr>\n",
       "    <tr>\n",
       "      <th>1</th>\n",
       "      <td>09:21:06</td>\n",
       "      <td>0</td>\n",
       "      <td>12.88</td>\n",
       "      <td>0.00</td>\n",
       "      <td>5.62</td>\n",
       "      <td>0.03</td>\n",
       "      <td>0.00</td>\n",
       "      <td>0.02</td>\n",
       "      <td>1.27</td>\n",
       "      <td>0.00</td>\n",
       "      <td>80.18</td>\n",
       "    </tr>\n",
       "    <tr>\n",
       "      <th>2</th>\n",
       "      <td>09:21:06</td>\n",
       "      <td>1</td>\n",
       "      <td>1.47</td>\n",
       "      <td>0.00</td>\n",
       "      <td>85.91</td>\n",
       "      <td>0.00</td>\n",
       "      <td>0.00</td>\n",
       "      <td>0.00</td>\n",
       "      <td>0.00</td>\n",
       "      <td>0.00</td>\n",
       "      <td>12.63</td>\n",
       "    </tr>\n",
       "    <tr>\n",
       "      <th>3</th>\n",
       "      <td>09:21:06</td>\n",
       "      <td>2</td>\n",
       "      <td>2.15</td>\n",
       "      <td>0.00</td>\n",
       "      <td>5.54</td>\n",
       "      <td>0.00</td>\n",
       "      <td>0.00</td>\n",
       "      <td>0.00</td>\n",
       "      <td>0.00</td>\n",
       "      <td>0.00</td>\n",
       "      <td>92.31</td>\n",
       "    </tr>\n",
       "    <tr>\n",
       "      <th>4</th>\n",
       "      <td>09:21:06</td>\n",
       "      <td>3</td>\n",
       "      <td>0.20</td>\n",
       "      <td>0.00</td>\n",
       "      <td>8.88</td>\n",
       "      <td>0.00</td>\n",
       "      <td>0.00</td>\n",
       "      <td>0.00</td>\n",
       "      <td>0.08</td>\n",
       "      <td>0.00</td>\n",
       "      <td>90.84</td>\n",
       "    </tr>\n",
       "  </tbody>\n",
       "</table>\n",
       "</div>"
      ],
      "text/plain": [
       "   09:20:06  CPU   %usr %nice   %sys %iowait %steal  %irq %soft %guest  %idle\n",
       "0  09:21:06  all   4.98  0.00   5.10    0.00   0.00  0.00  0.06   0.00  89.86\n",
       "1  09:21:06    0  12.88  0.00   5.62    0.03   0.00  0.02  1.27   0.00  80.18\n",
       "2  09:21:06    1   1.47  0.00  85.91    0.00   0.00  0.00  0.00   0.00  12.63\n",
       "3  09:21:06    2   2.15  0.00   5.54    0.00   0.00  0.00  0.00   0.00  92.31\n",
       "4  09:21:06    3   0.20  0.00   8.88    0.00   0.00  0.00  0.08   0.00  90.84"
      ]
     },
     "execution_count": 60,
     "metadata": {},
     "output_type": "execute_result"
    }
   ],
   "source": [
    "# rawDfCPU = pd.read_csv('sar_cpu.csv',sep=';', delimiter=None,header=None,skiprows=[0])\n",
    "# rawDfCPU = pd.read_csv('sar_cpu.csv',sep=';')\n",
    "rawDfCPU = pd.read_csv('sar_cpu.csv',sep=';')\n",
    "rawDfCPU.head()"
   ]
  },
  {
   "cell_type": "code",
   "execution_count": 63,
   "metadata": {},
   "outputs": [
    {
     "name": "stdout",
     "output_type": "stream",
     "text": [
      "0       89.86\n",
      "1       80.18\n",
      "2       12.63\n",
      "3       92.31\n",
      "4       90.84\n",
      "        ...  \n",
      "4872    98.15\n",
      "4873    97.53\n",
      "4874    97.23\n",
      "4875    99.83\n",
      "4876    99.25\n",
      "Name: %idle, Length: 4877, dtype: float64\n"
     ]
    }
   ],
   "source": [
    "# Получить все значения из 10-го столбца, заменить заголовок на \"не значение\" (NaN), перевести в float\n",
    "# yVal = rawDfCPU.iloc[:, 10].replace('%idle',np.nan).astype(float)\n",
    "\n",
    "\n",
    "\n",
    "\n",
    "\n",
    "\n",
    "yVal = rawDfCPU.iloc[:,10].replace('%idle',np.nan).astype(float)\n",
    "\n",
    "\n",
    "\n",
    "\n",
    "print(yVal)"
   ]
  },
  {
   "cell_type": "code",
   "execution_count": 77,
   "metadata": {},
   "outputs": [
    {
     "data": {
      "text/html": [
       "<div>\n",
       "<style scoped>\n",
       "    .dataframe tbody tr th:only-of-type {\n",
       "        vertical-align: middle;\n",
       "    }\n",
       "\n",
       "    .dataframe tbody tr th {\n",
       "        vertical-align: top;\n",
       "    }\n",
       "\n",
       "    .dataframe thead th {\n",
       "        text-align: right;\n",
       "    }\n",
       "</style>\n",
       "<table border=\"1\" class=\"dataframe\">\n",
       "  <thead>\n",
       "    <tr style=\"text-align: right;\">\n",
       "      <th></th>\n",
       "      <th>Time</th>\n",
       "      <th>y</th>\n",
       "      <th>CPU</th>\n",
       "    </tr>\n",
       "  </thead>\n",
       "  <tbody>\n",
       "    <tr>\n",
       "      <th>0</th>\n",
       "      <td>09:21:06</td>\n",
       "      <td>10.14</td>\n",
       "      <td>all</td>\n",
       "    </tr>\n",
       "    <tr>\n",
       "      <th>1</th>\n",
       "      <td>09:21:06</td>\n",
       "      <td>19.82</td>\n",
       "      <td>0</td>\n",
       "    </tr>\n",
       "    <tr>\n",
       "      <th>2</th>\n",
       "      <td>09:21:06</td>\n",
       "      <td>87.37</td>\n",
       "      <td>1</td>\n",
       "    </tr>\n",
       "    <tr>\n",
       "      <th>3</th>\n",
       "      <td>09:21:06</td>\n",
       "      <td>7.69</td>\n",
       "      <td>2</td>\n",
       "    </tr>\n",
       "    <tr>\n",
       "      <th>4</th>\n",
       "      <td>09:21:06</td>\n",
       "      <td>9.16</td>\n",
       "      <td>3</td>\n",
       "    </tr>\n",
       "  </tbody>\n",
       "</table>\n",
       "</div>"
      ],
      "text/plain": [
       "       Time      y  CPU\n",
       "0  09:21:06  10.14  all\n",
       "1  09:21:06  19.82    0\n",
       "2  09:21:06  87.37    1\n",
       "3  09:21:06   7.69    2\n",
       "4  09:21:06   9.16    3"
      ]
     },
     "execution_count": 77,
     "metadata": {},
     "output_type": "execute_result"
    }
   ],
   "source": [
    "dfCPU = pd.DataFrame({'Time':rawDfCPU.iloc[:, 0], \"y\":100-yVal, \"CPU\":rawDfCPU.iloc[:, 1]})\n",
    "dfCPU.head()"
   ]
  },
  {
   "cell_type": "code",
   "execution_count": 81,
   "metadata": {},
   "outputs": [
    {
     "data": {
      "text/html": [
       "<div>\n",
       "<style scoped>\n",
       "    .dataframe tbody tr th:only-of-type {\n",
       "        vertical-align: middle;\n",
       "    }\n",
       "\n",
       "    .dataframe tbody tr th {\n",
       "        vertical-align: top;\n",
       "    }\n",
       "\n",
       "    .dataframe thead th {\n",
       "        text-align: right;\n",
       "    }\n",
       "</style>\n",
       "<table border=\"1\" class=\"dataframe\">\n",
       "  <thead>\n",
       "    <tr style=\"text-align: right;\">\n",
       "      <th></th>\n",
       "      <th>Time</th>\n",
       "      <th>y</th>\n",
       "      <th>CPU</th>\n",
       "    </tr>\n",
       "  </thead>\n",
       "  <tbody>\n",
       "    <tr>\n",
       "      <th>0</th>\n",
       "      <td>09:21:06</td>\n",
       "      <td>10.14</td>\n",
       "      <td>all</td>\n",
       "    </tr>\n",
       "    <tr>\n",
       "      <th>1</th>\n",
       "      <td>09:22:06</td>\n",
       "      <td>10.40</td>\n",
       "      <td>all</td>\n",
       "    </tr>\n",
       "    <tr>\n",
       "      <th>2</th>\n",
       "      <td>09:23:06</td>\n",
       "      <td>10.37</td>\n",
       "      <td>all</td>\n",
       "    </tr>\n",
       "    <tr>\n",
       "      <th>3</th>\n",
       "      <td>09:24:06</td>\n",
       "      <td>10.16</td>\n",
       "      <td>all</td>\n",
       "    </tr>\n",
       "    <tr>\n",
       "      <th>4</th>\n",
       "      <td>09:25:06</td>\n",
       "      <td>10.62</td>\n",
       "      <td>all</td>\n",
       "    </tr>\n",
       "  </tbody>\n",
       "</table>\n",
       "</div>"
      ],
      "text/plain": [
       "       Time      y  CPU\n",
       "0  09:21:06  10.14  all\n",
       "1  09:22:06  10.40  all\n",
       "2  09:23:06  10.37  all\n",
       "3  09:24:06  10.16  all\n",
       "4  09:25:06  10.62  all"
      ]
     },
     "execution_count": 81,
     "metadata": {},
     "output_type": "execute_result"
    }
   ],
   "source": [
    "dfCPU = dfCPU[dfCPU['CPU']==\"all\"]\n",
    "dfCPU.reset_index(inplace = True, drop=True)\n",
    "dfCPU.head()"
   ]
  },
  {
   "cell_type": "code",
   "execution_count": 89,
   "metadata": {},
   "outputs": [
    {
     "data": {
      "text/plain": [
       "(0.0, 50.0)"
      ]
     },
     "execution_count": 89,
     "metadata": {},
     "output_type": "execute_result"
    },
    {
     "data": {
      "image/png": "[encoded data removed]",
      "text/plain": [
       "<Figure size 1080x302.4 with 1 Axes>"
      ]
     },
     "metadata": {
      "needs_background": "light"
     },
     "output_type": "display_data"
    }
   ],
   "source": [
    "# yVal = rawDfCPU.iloc[:, 10].replace('%idle',np.nan).astype(float)\n",
    "# dfCPU = pd.DataFrame({'Time':rawDfCPU.iloc[:, 0], \"y\":100-yVal, \"CPU\":rawDfCPU.iloc[:, 1]})\n",
    "# dfCPU = dfCPU[dfCPU['CPU']==\"all\"]\n",
    "\n",
    "\n",
    "fig, ax1 = plt.subplots(figsize=(15, 4.2))\n",
    "\n",
    "ax1.plot(dfCPU.Time,dfCPU.y, label='Утилизация CPU')\n",
    "ax1.legend(loc='upper left')\n",
    "\n",
    "ax1.set_xlabel('Продолжительность теста')\n",
    "ax1.set_ylabel('Утилизация CPU, %', rotation=0, y=1.1)\n",
    "\n",
    "ax1.tick_params(axis='x', labelrotation=90)\n",
    "ax1.set_ylim(0, 50)"
   ]
  },
  {
   "cell_type": "code",
   "execution_count": 94,
   "metadata": {},
   "outputs": [
    {
     "data": {
      "image/png": "[encoded data removed]",
      "text/plain": [
       "<Figure size 1080x302.4 with 1 Axes>"
      ]
     },
     "metadata": {
      "needs_background": "light"
     },
     "output_type": "display_data"
    }
   ],
   "source": [
    "yVal = rawDfCPU.iloc[:, 10].replace('%idle',np.nan).astype(float)\n",
    "dfCPU = pd.DataFrame({'Time':rawDfCPU.iloc[:, 0], \"y\":100-yVal, \"CPU\":rawDfCPU.iloc[:, 1]})\n",
    "dfCPU = dfCPU[dfCPU['CPU']==\"all\"]\n",
    "dfCPU.reset_index(inplace = True, drop=True)\n",
    "fig, ax1 = plt.subplots(figsize=(15, 4.2))\n",
    "ax1.plot(dfCPU.Time,dfCPU.y, label='Утилизация CPU')\n",
    "ax1.legend(loc='upper left')\n",
    "ax1.set_xlabel('Продолжительность теста')\n",
    "ax1.set_ylabel('Утилизация CPU, %', rotation=0, y=1.1)\n",
    "ax1.tick_params(axis='x', labelrotation=90)\n",
    "ax1.set_ylim(0, 50)\n",
    "\n",
    "\n",
    "\n",
    "\n",
    "# График Очереди\n",
    "\n",
    "\n",
    "# dfQ = pd.read_csv('sar_queue.csv',sep=';', delimiter=None)\n",
    "# ax2 = ax1.twinx()\n",
    "# ax2.set_ylim(0,10)\n",
    "# ax2.plot(dfQ['09:20:06'],dfQ['runq-sz'], color='limegreen', label='Длина очереди CPU')\n",
    "# ax2.legend(loc='upper right')\n",
    "# ax2.xaxis.label.set_visible(False)\n",
    "# ax2.set_ylabel('Длина очереди, шт', rotation=0, y=1.1)\n",
    "\n",
    "\n",
    "\n",
    "\n",
    "# Массив: от 0 до номера последнего эл-та списка CPU с шагом 6, для отрисовывания оси X\n",
    "xAxis = np.arange(0, dfCPU.index[-1],6)\n",
    "plt.xlim(dfCPU['Time'][0], dfCPU['Time'][dfCPU.index[-1]])\n",
    "plt.xticks(xAxis, dfCPU['Time'][xAxis], rotation='vertical')\n",
    "# fig.tight_layout()\n",
    "fig.suptitle(\"Утилизация CPU\", y=1.0)\n",
    "plt.show()\n",
    "plt.close()"
   ]
  },
  {
   "cell_type": "code",
   "execution_count": null,
   "metadata": {},
   "outputs": [],
   "source": []
  }
 ],
 "metadata": {
  "kernelspec": {
   "display_name": "Python 3",
   "language": "python",
   "name": "python3"
  },
  "language_info": {
   "codemirror_mode": {
    "name": "ipython",
    "version": 3
   },
   "file_extension": ".py",
   "mimetype": "text/x-python",
   "name": "python",
   "nbconvert_exporter": "python",
   "pygments_lexer": "ipython3",
   "version": "3.8.3"
  }
 },
 "nbformat": 4,
 "nbformat_minor": 4
}
